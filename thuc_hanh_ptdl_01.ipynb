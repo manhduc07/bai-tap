{
  "nbformat": 4,
  "nbformat_minor": 0,
  "metadata": {
    "kernelspec": {
      "display_name": "Python 3",
      "language": "python",
      "name": "python3"
    },
    "language_info": {
      "codemirror_mode": {
        "name": "ipython",
        "version": 3
      },
      "file_extension": ".py",
      "mimetype": "text/x-python",
      "name": "python",
      "nbconvert_exporter": "python",
      "pygments_lexer": "ipython3",
      "version": "3.7.3"
    },
    "colab": {
      "name": "thuc-hanh-ptdl-01.ipynb",
      "provenance": [],
      "include_colab_link": true
    }
  },
  "cells": [
    {
      "cell_type": "markdown",
      "metadata": {
        "id": "view-in-github",
        "colab_type": "text"
      },
      "source": [
        "<a href=\"https://colab.research.google.com/github/manhduc07/bai-tap/blob/master/thuc_hanh_ptdl_01.ipynb\" target=\"_parent\"><img src=\"https://colab.research.google.com/assets/colab-badge.svg\" alt=\"Open In Colab\"/></a>"
      ]
    },
    {
      "cell_type": "markdown",
      "metadata": {
        "id": "vBS1YxAEEu68"
      },
      "source": [
        "THỰC HÀNH PHÂN TÍCH DỮ LIỆU - BÀI 01\n",
        "MÔ TẢ DỮ LIỆU BẰNG ĐỒ THỊ - BIỂU ĐỒ"
      ]
    },
    {
      "cell_type": "code",
      "metadata": {
        "id": "Rjd8puZnEu7B"
      },
      "source": [
        "#Nhập các thư viện cần thiết\n",
        "%matplotlib inline\n",
        "import pandas as pd\n",
        "import numpy as np\n",
        "import matplotlib as mpl\n",
        "import matplotlib.pyplot as plt"
      ],
      "execution_count": null,
      "outputs": []
    },
    {
      "cell_type": "markdown",
      "metadata": {
        "id": "OiEBni35Eu7C"
      },
      "source": [
        "NHẬP DỮ LIỆU"
      ]
    },
    {
      "cell_type": "code",
      "metadata": {
        "id": "u4TmLO8eEu7C",
        "outputId": "d97e2c76-d54c-4ee8-b7c8-ae277300ebd8"
      },
      "source": [
        "#Đọc file microbiome.csv vào data frame có tên là mb_df\n",
        "mb_df = pd.read_csv(\"data/microbiome.csv\")\n",
        "mb_df.head()"
      ],
      "execution_count": null,
      "outputs": [
        {
          "output_type": "execute_result",
          "data": {
            "text/html": [
              "<div>\n",
              "<style scoped>\n",
              "    .dataframe tbody tr th:only-of-type {\n",
              "        vertical-align: middle;\n",
              "    }\n",
              "\n",
              "    .dataframe tbody tr th {\n",
              "        vertical-align: top;\n",
              "    }\n",
              "\n",
              "    .dataframe thead th {\n",
              "        text-align: right;\n",
              "    }\n",
              "</style>\n",
              "<table border=\"1\" class=\"dataframe\">\n",
              "  <thead>\n",
              "    <tr style=\"text-align: right;\">\n",
              "      <th></th>\n",
              "      <th>Taxon</th>\n",
              "      <th>Patient</th>\n",
              "      <th>Tissue</th>\n",
              "      <th>Stool</th>\n",
              "    </tr>\n",
              "  </thead>\n",
              "  <tbody>\n",
              "    <tr>\n",
              "      <th>0</th>\n",
              "      <td>Firmicutes</td>\n",
              "      <td>1</td>\n",
              "      <td>632</td>\n",
              "      <td>305</td>\n",
              "    </tr>\n",
              "    <tr>\n",
              "      <th>1</th>\n",
              "      <td>Firmicutes</td>\n",
              "      <td>2</td>\n",
              "      <td>136</td>\n",
              "      <td>4182</td>\n",
              "    </tr>\n",
              "    <tr>\n",
              "      <th>2</th>\n",
              "      <td>Firmicutes</td>\n",
              "      <td>3</td>\n",
              "      <td>1174</td>\n",
              "      <td>703</td>\n",
              "    </tr>\n",
              "    <tr>\n",
              "      <th>3</th>\n",
              "      <td>Firmicutes</td>\n",
              "      <td>4</td>\n",
              "      <td>408</td>\n",
              "      <td>3946</td>\n",
              "    </tr>\n",
              "    <tr>\n",
              "      <th>4</th>\n",
              "      <td>Firmicutes</td>\n",
              "      <td>5</td>\n",
              "      <td>831</td>\n",
              "      <td>8605</td>\n",
              "    </tr>\n",
              "  </tbody>\n",
              "</table>\n",
              "</div>"
            ],
            "text/plain": [
              "        Taxon  Patient  Tissue  Stool\n",
              "0  Firmicutes        1     632    305\n",
              "1  Firmicutes        2     136   4182\n",
              "2  Firmicutes        3    1174    703\n",
              "3  Firmicutes        4     408   3946\n",
              "4  Firmicutes        5     831   8605"
            ]
          },
          "metadata": {
            "tags": []
          },
          "execution_count": 2
        }
      ]
    },
    {
      "cell_type": "code",
      "metadata": {
        "id": "d4E4GbvyEu7D",
        "outputId": "710af803-8f68-4e34-c332-0ce4f64e8750"
      },
      "source": [
        "mb_df.tail()"
      ],
      "execution_count": null,
      "outputs": [
        {
          "output_type": "execute_result",
          "data": {
            "text/html": [
              "<div>\n",
              "<style scoped>\n",
              "    .dataframe tbody tr th:only-of-type {\n",
              "        vertical-align: middle;\n",
              "    }\n",
              "\n",
              "    .dataframe tbody tr th {\n",
              "        vertical-align: top;\n",
              "    }\n",
              "\n",
              "    .dataframe thead th {\n",
              "        text-align: right;\n",
              "    }\n",
              "</style>\n",
              "<table border=\"1\" class=\"dataframe\">\n",
              "  <thead>\n",
              "    <tr style=\"text-align: right;\">\n",
              "      <th></th>\n",
              "      <th>Taxon</th>\n",
              "      <th>Patient</th>\n",
              "      <th>Tissue</th>\n",
              "      <th>Stool</th>\n",
              "    </tr>\n",
              "  </thead>\n",
              "  <tbody>\n",
              "    <tr>\n",
              "      <th>70</th>\n",
              "      <td>Other</td>\n",
              "      <td>11</td>\n",
              "      <td>203</td>\n",
              "      <td>6</td>\n",
              "    </tr>\n",
              "    <tr>\n",
              "      <th>71</th>\n",
              "      <td>Other</td>\n",
              "      <td>12</td>\n",
              "      <td>392</td>\n",
              "      <td>6</td>\n",
              "    </tr>\n",
              "    <tr>\n",
              "      <th>72</th>\n",
              "      <td>Other</td>\n",
              "      <td>13</td>\n",
              "      <td>28</td>\n",
              "      <td>25</td>\n",
              "    </tr>\n",
              "    <tr>\n",
              "      <th>73</th>\n",
              "      <td>Other</td>\n",
              "      <td>14</td>\n",
              "      <td>12</td>\n",
              "      <td>22</td>\n",
              "    </tr>\n",
              "    <tr>\n",
              "      <th>74</th>\n",
              "      <td>Other</td>\n",
              "      <td>15</td>\n",
              "      <td>305</td>\n",
              "      <td>32</td>\n",
              "    </tr>\n",
              "  </tbody>\n",
              "</table>\n",
              "</div>"
            ],
            "text/plain": [
              "    Taxon  Patient  Tissue  Stool\n",
              "70  Other       11     203      6\n",
              "71  Other       12     392      6\n",
              "72  Other       13      28     25\n",
              "73  Other       14      12     22\n",
              "74  Other       15     305     32"
            ]
          },
          "metadata": {
            "tags": []
          },
          "execution_count": 3
        }
      ]
    },
    {
      "cell_type": "markdown",
      "metadata": {
        "id": "2UBuEKrxEu7E"
      },
      "source": [
        "Kiểm tra kích thước tập dữ liệu"
      ]
    },
    {
      "cell_type": "code",
      "metadata": {
        "id": "aGku6TrcEu7E",
        "outputId": "fc7a7cfd-67ff-4c44-80c1-06bda773ade5"
      },
      "source": [
        "mb_df.head(15)"
      ],
      "execution_count": null,
      "outputs": [
        {
          "output_type": "execute_result",
          "data": {
            "text/html": [
              "<div>\n",
              "<style scoped>\n",
              "    .dataframe tbody tr th:only-of-type {\n",
              "        vertical-align: middle;\n",
              "    }\n",
              "\n",
              "    .dataframe tbody tr th {\n",
              "        vertical-align: top;\n",
              "    }\n",
              "\n",
              "    .dataframe thead th {\n",
              "        text-align: right;\n",
              "    }\n",
              "</style>\n",
              "<table border=\"1\" class=\"dataframe\">\n",
              "  <thead>\n",
              "    <tr style=\"text-align: right;\">\n",
              "      <th></th>\n",
              "      <th>Taxon</th>\n",
              "      <th>Patient</th>\n",
              "      <th>Tissue</th>\n",
              "      <th>Stool</th>\n",
              "    </tr>\n",
              "  </thead>\n",
              "  <tbody>\n",
              "    <tr>\n",
              "      <th>0</th>\n",
              "      <td>Firmicutes</td>\n",
              "      <td>1</td>\n",
              "      <td>632</td>\n",
              "      <td>305</td>\n",
              "    </tr>\n",
              "    <tr>\n",
              "      <th>1</th>\n",
              "      <td>Firmicutes</td>\n",
              "      <td>2</td>\n",
              "      <td>136</td>\n",
              "      <td>4182</td>\n",
              "    </tr>\n",
              "    <tr>\n",
              "      <th>2</th>\n",
              "      <td>Firmicutes</td>\n",
              "      <td>3</td>\n",
              "      <td>1174</td>\n",
              "      <td>703</td>\n",
              "    </tr>\n",
              "    <tr>\n",
              "      <th>3</th>\n",
              "      <td>Firmicutes</td>\n",
              "      <td>4</td>\n",
              "      <td>408</td>\n",
              "      <td>3946</td>\n",
              "    </tr>\n",
              "    <tr>\n",
              "      <th>4</th>\n",
              "      <td>Firmicutes</td>\n",
              "      <td>5</td>\n",
              "      <td>831</td>\n",
              "      <td>8605</td>\n",
              "    </tr>\n",
              "    <tr>\n",
              "      <th>5</th>\n",
              "      <td>Firmicutes</td>\n",
              "      <td>6</td>\n",
              "      <td>693</td>\n",
              "      <td>50</td>\n",
              "    </tr>\n",
              "    <tr>\n",
              "      <th>6</th>\n",
              "      <td>Firmicutes</td>\n",
              "      <td>7</td>\n",
              "      <td>718</td>\n",
              "      <td>717</td>\n",
              "    </tr>\n",
              "    <tr>\n",
              "      <th>7</th>\n",
              "      <td>Firmicutes</td>\n",
              "      <td>8</td>\n",
              "      <td>173</td>\n",
              "      <td>33</td>\n",
              "    </tr>\n",
              "    <tr>\n",
              "      <th>8</th>\n",
              "      <td>Firmicutes</td>\n",
              "      <td>9</td>\n",
              "      <td>228</td>\n",
              "      <td>80</td>\n",
              "    </tr>\n",
              "    <tr>\n",
              "      <th>9</th>\n",
              "      <td>Firmicutes</td>\n",
              "      <td>10</td>\n",
              "      <td>162</td>\n",
              "      <td>3196</td>\n",
              "    </tr>\n",
              "    <tr>\n",
              "      <th>10</th>\n",
              "      <td>Firmicutes</td>\n",
              "      <td>11</td>\n",
              "      <td>372</td>\n",
              "      <td>32</td>\n",
              "    </tr>\n",
              "    <tr>\n",
              "      <th>11</th>\n",
              "      <td>Firmicutes</td>\n",
              "      <td>12</td>\n",
              "      <td>4255</td>\n",
              "      <td>4361</td>\n",
              "    </tr>\n",
              "    <tr>\n",
              "      <th>12</th>\n",
              "      <td>Firmicutes</td>\n",
              "      <td>13</td>\n",
              "      <td>107</td>\n",
              "      <td>1667</td>\n",
              "    </tr>\n",
              "    <tr>\n",
              "      <th>13</th>\n",
              "      <td>Firmicutes</td>\n",
              "      <td>14</td>\n",
              "      <td>96</td>\n",
              "      <td>223</td>\n",
              "    </tr>\n",
              "    <tr>\n",
              "      <th>14</th>\n",
              "      <td>Firmicutes</td>\n",
              "      <td>15</td>\n",
              "      <td>281</td>\n",
              "      <td>2377</td>\n",
              "    </tr>\n",
              "  </tbody>\n",
              "</table>\n",
              "</div>"
            ],
            "text/plain": [
              "         Taxon  Patient  Tissue  Stool\n",
              "0   Firmicutes        1     632    305\n",
              "1   Firmicutes        2     136   4182\n",
              "2   Firmicutes        3    1174    703\n",
              "3   Firmicutes        4     408   3946\n",
              "4   Firmicutes        5     831   8605\n",
              "5   Firmicutes        6     693     50\n",
              "6   Firmicutes        7     718    717\n",
              "7   Firmicutes        8     173     33\n",
              "8   Firmicutes        9     228     80\n",
              "9   Firmicutes       10     162   3196\n",
              "10  Firmicutes       11     372     32\n",
              "11  Firmicutes       12    4255   4361\n",
              "12  Firmicutes       13     107   1667\n",
              "13  Firmicutes       14      96    223\n",
              "14  Firmicutes       15     281   2377"
            ]
          },
          "metadata": {
            "tags": []
          },
          "execution_count": 4
        }
      ]
    },
    {
      "cell_type": "code",
      "metadata": {
        "id": "iveMNmqMEu7E",
        "outputId": "c8585262-ecf1-4913-c914-e79216040b76"
      },
      "source": [
        "mb_df.shape"
      ],
      "execution_count": null,
      "outputs": [
        {
          "output_type": "execute_result",
          "data": {
            "text/plain": [
              "(75, 4)"
            ]
          },
          "metadata": {
            "tags": []
          },
          "execution_count": 3
        }
      ]
    },
    {
      "cell_type": "markdown",
      "metadata": {
        "id": "zXqxFRDbEu7F"
      },
      "source": [
        "TRÍCH DỮ LIỆU TỪ DATA FRAME"
      ]
    },
    {
      "cell_type": "code",
      "metadata": {
        "id": "ed0fftvYEu7F",
        "outputId": "af5cf066-b5eb-40f3-c7f1-edd044cb5bcb"
      },
      "source": [
        "du_lieu_dinh_tinh = mb_df[\"Taxon\"]\n",
        "du_lieu_dinh_tinh[:5]"
      ],
      "execution_count": null,
      "outputs": [
        {
          "output_type": "execute_result",
          "data": {
            "text/plain": [
              "0    Firmicutes\n",
              "1    Firmicutes\n",
              "2    Firmicutes\n",
              "3    Firmicutes\n",
              "4    Firmicutes\n",
              "Name: Taxon, dtype: object"
            ]
          },
          "metadata": {
            "tags": []
          },
          "execution_count": 5
        }
      ]
    },
    {
      "cell_type": "code",
      "metadata": {
        "id": "p-YMBVqrEu7F",
        "outputId": "e7b29737-20f4-480c-9d21-ef67e180e5f9"
      },
      "source": [
        "du_lieu_dinh_luong = mb_df[\"Patient\"]\n",
        "du_lieu_dinh_luong[-5:]"
      ],
      "execution_count": null,
      "outputs": [
        {
          "output_type": "execute_result",
          "data": {
            "text/plain": [
              "70    11\n",
              "71    12\n",
              "72    13\n",
              "73    14\n",
              "74    15\n",
              "Name: Patient, dtype: int64"
            ]
          },
          "metadata": {
            "tags": []
          },
          "execution_count": 6
        }
      ]
    },
    {
      "cell_type": "code",
      "metadata": {
        "id": "eFLYxLJbEu7F",
        "outputId": "f742d638-4058-47b0-ac91-ed1f5bb85759"
      },
      "source": [
        "taxon_series = mb_df.Taxon.copy()\n",
        "taxon_series[:5]"
      ],
      "execution_count": null,
      "outputs": [
        {
          "output_type": "execute_result",
          "data": {
            "text/plain": [
              "0    Firmicutes\n",
              "1    Firmicutes\n",
              "2    Firmicutes\n",
              "3    Firmicutes\n",
              "4    Firmicutes\n",
              "Name: Taxon, dtype: object"
            ]
          },
          "metadata": {
            "tags": []
          },
          "execution_count": 7
        }
      ]
    },
    {
      "cell_type": "code",
      "metadata": {
        "id": "BUDe_d7tEu7G",
        "outputId": "c87815b9-12a5-4118-9bf1-778be0b8a67f"
      },
      "source": [
        "tissue_series = mb_df.Tissue.copy()\n",
        "tissue_series[:5]"
      ],
      "execution_count": null,
      "outputs": [
        {
          "output_type": "execute_result",
          "data": {
            "text/plain": [
              "0     632\n",
              "1     136\n",
              "2    1174\n",
              "3     408\n",
              "4     831\n",
              "Name: Tissue, dtype: int64"
            ]
          },
          "metadata": {
            "tags": []
          },
          "execution_count": 8
        }
      ]
    },
    {
      "cell_type": "code",
      "metadata": {
        "id": "eAEg6FjGEu7G",
        "outputId": "be27461b-2f67-4c90-a3c9-f054a13a277a"
      },
      "source": [
        "taxon_summary = pd.Series(mb_df.Taxon).value_counts()\n",
        "taxon_summary"
      ],
      "execution_count": null,
      "outputs": [
        {
          "output_type": "execute_result",
          "data": {
            "text/plain": [
              "Other             15\n",
              "Proteobacteria    15\n",
              "Firmicutes        15\n",
              "Actinobacteria    15\n",
              "Bacteroidetes     15\n",
              "Name: Taxon, dtype: int64"
            ]
          },
          "metadata": {
            "tags": []
          },
          "execution_count": 10
        }
      ]
    },
    {
      "cell_type": "code",
      "metadata": {
        "id": "qlsyXybYEu7G",
        "outputId": "24a0244d-fdd7-4f3d-968e-bfb23642ef8a"
      },
      "source": [
        "taxon_summary = taxon_series.value_counts()\n",
        "taxon_summary"
      ],
      "execution_count": null,
      "outputs": [
        {
          "output_type": "execute_result",
          "data": {
            "text/plain": [
              "Other             15\n",
              "Proteobacteria    15\n",
              "Firmicutes        15\n",
              "Actinobacteria    15\n",
              "Bacteroidetes     15\n",
              "Name: Taxon, dtype: int64"
            ]
          },
          "metadata": {
            "tags": []
          },
          "execution_count": 12
        }
      ]
    },
    {
      "cell_type": "code",
      "metadata": {
        "id": "oBs1NrmNEu7G",
        "outputId": "855c8aff-0836-4e1c-848a-b068195da1dc"
      },
      "source": [
        "taxon_summary.index"
      ],
      "execution_count": null,
      "outputs": [
        {
          "output_type": "execute_result",
          "data": {
            "text/plain": [
              "Index(['Other', 'Proteobacteria', 'Firmicutes', 'Actinobacteria',\n",
              "       'Bacteroidetes'],\n",
              "      dtype='object')"
            ]
          },
          "metadata": {
            "tags": []
          },
          "execution_count": 13
        }
      ]
    },
    {
      "cell_type": "code",
      "metadata": {
        "id": "hd9exsW_Eu7H",
        "outputId": "40f05d20-9b6e-4be3-98ba-a6d5743d7a97"
      },
      "source": [
        "taxon_summary.values"
      ],
      "execution_count": null,
      "outputs": [
        {
          "output_type": "execute_result",
          "data": {
            "text/plain": [
              "array([15, 15, 15, 15, 15], dtype=int64)"
            ]
          },
          "metadata": {
            "tags": []
          },
          "execution_count": 14
        }
      ]
    },
    {
      "cell_type": "markdown",
      "metadata": {
        "id": "8KJXb4voEu7H"
      },
      "source": [
        "VẼ BIỂU ĐỒ CHO DỮ LIỆU ĐỊNH TÍNH\n",
        "\n",
        "1 - BIỂU ĐỒ HÌNH CỘT"
      ]
    },
    {
      "cell_type": "code",
      "metadata": {
        "id": "hm9I-p8LEu7H",
        "outputId": "a233a86e-5901-4881-d8d3-c664c4084ed3"
      },
      "source": [
        "taxon_summary.plot(kind='bar')"
      ],
      "execution_count": null,
      "outputs": [
        {
          "output_type": "execute_result",
          "data": {
            "text/plain": [
              "<matplotlib.axes._subplots.AxesSubplot at 0x1e7b28b0128>"
            ]
          },
          "metadata": {
            "tags": []
          },
          "execution_count": 12
        },
        {
          "output_type": "display_data",
          "data": {
            "image/png": "[encoded data removed]",
            "text/plain": [
              "<Figure size 432x288 with 1 Axes>"
            ]
          },
          "metadata": {
            "tags": [],
            "needs_background": "light"
          }
        }
      ]
    },
    {
      "cell_type": "code",
      "metadata": {
        "id": "jDkMt74YEu7H",
        "outputId": "2b48c6f5-5398-41b1-91af-3b620f525d68"
      },
      "source": [
        "mb_df[\"Taxon\"].value_counts().plot(kind='bar')"
      ],
      "execution_count": null,
      "outputs": [
        {
          "output_type": "execute_result",
          "data": {
            "text/plain": [
              "<matplotlib.axes._subplots.AxesSubplot at 0x1e7b2f3d208>"
            ]
          },
          "metadata": {
            "tags": []
          },
          "execution_count": 13
        },
        {
          "output_type": "display_data",
          "data": {
            "image/png": "[encoded data removed]",
            "text/plain": [
              "<Figure size 432x288 with 1 Axes>"
            ]
          },
          "metadata": {
            "tags": [],
            "needs_background": "light"
          }
        }
      ]
    },
    {
      "cell_type": "markdown",
      "metadata": {
        "id": "L_3RxM_QEu7I"
      },
      "source": [
        "Bài tập nâng cao:\n",
        "\n",
        "(1) Bạn hãy vẽ bar graph có giá trị của từng cột phía trên đỉnh của mỗi bar."
      ]
    },
    {
      "cell_type": "markdown",
      "metadata": {
        "id": "c5LgUluDEu7I"
      },
      "source": [
        "XÂY DỰNG PARETO DIAGRAM\n",
        "\n",
        "Do dữ liệu ở đây phân bố đồng đều nên chúng ta thử thay đổi 1 ít để tạo pareto có hiệu ứng phù hợp hơn"
      ]
    },
    {
      "cell_type": "code",
      "metadata": {
        "id": "0mo7I9FgEu7I",
        "outputId": "ebb95c5f-bb41-423a-bb5c-9ca4d7d8313b"
      },
      "source": [
        "taxon_summary['Bacteroidetes'] = 150\n",
        "taxon_summary['Firmicutes'] = 270\n",
        "taxon_summary['Proteobacteria'] = 300\n",
        "taxon_summary['Actinobacteria'] = 60\n",
        "taxon_summary"
      ],
      "execution_count": null,
      "outputs": [
        {
          "output_type": "execute_result",
          "data": {
            "text/plain": [
              "Other              15\n",
              "Proteobacteria    300\n",
              "Firmicutes        270\n",
              "Actinobacteria     60\n",
              "Bacteroidetes     150\n",
              "Name: Taxon, dtype: int64"
            ]
          },
          "metadata": {
            "tags": []
          },
          "execution_count": 15
        }
      ]
    },
    {
      "cell_type": "code",
      "metadata": {
        "id": "hEh-4YuWEu7I",
        "outputId": "31813a34-73b6-4850-805b-1dc5166ffcce"
      },
      "source": [
        "#Vẽ bar graph\n",
        "taxon_summary.plot(kind='bar')"
      ],
      "execution_count": null,
      "outputs": [
        {
          "output_type": "execute_result",
          "data": {
            "text/plain": [
              "<matplotlib.axes._subplots.AxesSubplot at 0x2092edae2e8>"
            ]
          },
          "metadata": {
            "tags": []
          },
          "execution_count": 16
        },
        {
          "output_type": "display_data",
          "data": {
            "image/png": "[encoded data removed]",
            "text/plain": [
              "<Figure size 432x288 with 1 Axes>"
            ]
          },
          "metadata": {
            "tags": [],
            "needs_background": "light"
          }
        }
      ]
    },
    {
      "cell_type": "code",
      "metadata": {
        "id": "IIFBbN47Eu7I",
        "outputId": "53f0d6cb-4846-4722-e6cf-fd6328c157fa"
      },
      "source": [
        "#Vẽ pareto\n",
        "#Bước 1 - sắp xếp giảm dần\n",
        "taxon_summary.sort_values(ascending= False)"
      ],
      "execution_count": null,
      "outputs": [
        {
          "output_type": "execute_result",
          "data": {
            "text/plain": [
              "Proteobacteria    300\n",
              "Firmicutes        270\n",
              "Bacteroidetes     150\n",
              "Actinobacteria     60\n",
              "Other              15\n",
              "Name: Taxon, dtype: int64"
            ]
          },
          "metadata": {
            "tags": []
          },
          "execution_count": 17
        }
      ]
    },
    {
      "cell_type": "code",
      "metadata": {
        "id": "SqeR0JHMEu7J",
        "outputId": "824f831d-1729-444c-ff69-e02b1d8dda40"
      },
      "source": [
        "#Bước 2 - Vẽ pareto\n",
        "taxon_summary.plot(kind='bar')"
      ],
      "execution_count": null,
      "outputs": [
        {
          "output_type": "execute_result",
          "data": {
            "text/plain": [
              "<matplotlib.axes._subplots.AxesSubplot at 0x20931d502e8>"
            ]
          },
          "metadata": {
            "tags": []
          },
          "execution_count": 18
        },
        {
          "output_type": "display_data",
          "data": {
            "image/png": "[encoded data removed]",
            "text/plain": [
              "<Figure size 432x288 with 1 Axes>"
            ]
          },
          "metadata": {
            "tags": [],
            "needs_background": "light"
          }
        }
      ]
    },
    {
      "cell_type": "code",
      "metadata": {
        "id": "sByAmAg6Eu7J",
        "outputId": "f091ebf6-deff-4e7f-d2f1-a8e2efbc3dea"
      },
      "source": [
        "#Lưu ý: Kết quả sắp xếp phải được lưu lại\n",
        "taxon_pareto = taxon_summary.sort_values(ascending= False)\n",
        "taxon_pareto.plot(kind = 'bar')"
      ],
      "execution_count": null,
      "outputs": [
        {
          "output_type": "execute_result",
          "data": {
            "text/plain": [
              "<matplotlib.axes._subplots.AxesSubplot at 0x20932299668>"
            ]
          },
          "metadata": {
            "tags": []
          },
          "execution_count": 19
        },
        {
          "output_type": "display_data",
          "data": {
            "image/png": "[encoded data removed]",
            "text/plain": [
              "<Figure size 432x288 with 1 Axes>"
            ]
          },
          "metadata": {
            "tags": [],
            "needs_background": "light"
          }
        }
      ]
    },
    {
      "cell_type": "markdown",
      "metadata": {
        "id": "doaFzwV2Eu7J"
      },
      "source": [
        "BÀI TẬP NÂNG CAO\n",
        "\n",
        "VẼ BIỂU ĐỒ NẰM NGANG"
      ]
    },
    {
      "cell_type": "code",
      "metadata": {
        "id": "v061NhLcEu7J",
        "outputId": "874f685a-4bb8-440f-8d85-944b95c70a29"
      },
      "source": [
        "taxon_pareto.plot(kind = 'barh')"
      ],
      "execution_count": null,
      "outputs": [
        {
          "output_type": "execute_result",
          "data": {
            "text/plain": [
              "<matplotlib.axes._subplots.AxesSubplot at 0x2093203ab38>"
            ]
          },
          "metadata": {
            "tags": []
          },
          "execution_count": 20
        },
        {
          "output_type": "display_data",
          "data": {
            "image/png": "[encoded data removed]",
            "text/plain": [
              "<Figure size 432x288 with 1 Axes>"
            ]
          },
          "metadata": {
            "tags": [],
            "needs_background": "light"
          }
        }
      ]
    },
    {
      "cell_type": "code",
      "metadata": {
        "id": "Mkw-pKXeEu7J",
        "outputId": "1fc14089-35b2-4ff8-fe18-089eaef6c5da"
      },
      "source": [
        "taxon_summary.plot(kind='barh')"
      ],
      "execution_count": null,
      "outputs": [
        {
          "output_type": "execute_result",
          "data": {
            "text/plain": [
              "<matplotlib.axes._subplots.AxesSubplot at 0x209320d08d0>"
            ]
          },
          "metadata": {
            "tags": []
          },
          "execution_count": 21
        },
        {
          "output_type": "display_data",
          "data": {
            "image/png": "[encoded data removed]",
            "text/plain": [
              "<Figure size 432x288 with 1 Axes>"
            ]
          },
          "metadata": {
            "tags": [],
            "needs_background": "light"
          }
        }
      ]
    },
    {
      "cell_type": "markdown",
      "metadata": {
        "id": "fXP2JJ7wEu7K"
      },
      "source": [
        "Mô tả các trục và đặt tên hình vẽ"
      ]
    },
    {
      "cell_type": "code",
      "metadata": {
        "id": "OSOF_ljBEu7K",
        "outputId": "9bfdfed1-d8be-45ee-df71-b68ec85e742f"
      },
      "source": [
        "taxon_summary.plot(kind='bar', figsize=(8, 6))\n",
        "plt.xlabel(\"Vi khuẩn\", labelpad=14)\n",
        "plt.ylabel(\"Số lượng\", labelpad=14)\n",
        "plt.title(\"Số lượng các vi khuẩn\", y=1.02)"
      ],
      "execution_count": null,
      "outputs": [
        {
          "output_type": "execute_result",
          "data": {
            "text/plain": [
              "Text(0.5, 1.02, 'Số lượng các vi khuẩn')"
            ]
          },
          "metadata": {
            "tags": []
          },
          "execution_count": 22
        },
        {
          "output_type": "display_data",
          "data": {
            "image/png": "[encoded data removed]",
            "text/plain": [
              "<Figure size 576x432 with 1 Axes>"
            ]
          },
          "metadata": {
            "tags": [],
            "needs_background": "light"
          }
        }
      ]
    },
    {
      "cell_type": "code",
      "metadata": {
        "id": "jfwiIk3mEu7K",
        "outputId": "e3af2cd9-d3bf-43ef-8b44-f136599d0511"
      },
      "source": [
        "import seaborn as sns\n",
        "mycolors = 'rgbkymc'  #red, green, blue, black, etc.\n",
        "taxon_pareto.plot(kind = 'bar',  color=list(mycolors))\n",
        "plt.xlabel(\"Vi khuẩn\", labelpad=14)\n",
        "plt.ylabel(\"Số lượng\", labelpad=14)\n",
        "plt.title(\"Số lượng các vi khuẩn\", y=1.02)\n"
      ],
      "execution_count": null,
      "outputs": [
        {
          "output_type": "execute_result",
          "data": {
            "text/plain": [
              "Text(0.5, 1.02, 'Số lượng các vi khuẩn')"
            ]
          },
          "metadata": {
            "tags": []
          },
          "execution_count": 23
        },
        {
          "output_type": "display_data",
          "data": {
            "image/png": "[encoded data removed]",
            "text/plain": [
              "<Figure size 432x288 with 1 Axes>"
            ]
          },
          "metadata": {
            "tags": [],
            "needs_background": "light"
          }
        }
      ]
    },
    {
      "cell_type": "code",
      "metadata": {
        "id": "2AgHxMyFEu7K"
      },
      "source": [
        ""
      ],
      "execution_count": null,
      "outputs": []
    }
  ]
}