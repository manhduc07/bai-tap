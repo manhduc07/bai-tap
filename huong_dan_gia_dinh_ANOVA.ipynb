{
  "nbformat": 4,
  "nbformat_minor": 0,
  "metadata": {
    "kernelspec": {
      "display_name": "Python 3",
      "language": "python",
      "name": "python3"
    },
    "language_info": {
      "codemirror_mode": {
        "name": "ipython",
        "version": 3
      },
      "file_extension": ".py",
      "mimetype": "text/x-python",
      "name": "python",
      "nbconvert_exporter": "python",
      "pygments_lexer": "ipython3",
      "version": "3.7.3"
    },
    "colab": {
      "name": "huong-dan-gia-dinh-ANOVA.ipynb",
      "provenance": [],
      "include_colab_link": true
    }
  },
  "cells": [
    {
      "cell_type": "markdown",
      "metadata": {
        "id": "view-in-github",
        "colab_type": "text"
      },
      "source": [
        "<a href=\"https://colab.research.google.com/github/manhduc07/bai-tap/blob/master/huong_dan_gia_dinh_ANOVA.ipynb\" target=\"_parent\"><img src=\"https://colab.research.google.com/assets/colab-badge.svg\" alt=\"Open In Colab\"/></a>"
      ]
    },
    {
      "cell_type": "markdown",
      "metadata": {
        "id": "Otwth04bq1NL"
      },
      "source": [
        "PHÂN TÍCH ANOVA MỘT CHIỀU\n",
        "\n",
        "Phân tích ANOVA chấp nhận các giả định sau:\n",
        "\n",
        "(1) Tất cả các nhóm đều độc lập với nhau\n",
        "\n",
        "(2) Dữ liệu của mỗi nhóm đều tuân theo phân phối chuẩn. Tính chất này có thể được kiểm định bằng phương pháp Shapiro-Wilks.\n",
        "\n",
        "(3) Phương sai (variance) của các nhóm bằng nhau. Tính chất này có thể được kiểm định bằng phương pháp kiểm định Bartlett hay Levene.\n",
        "\n",
        "Nếu dữ liệu hiện có thỏa mãn các tính chất trên thì chúng ta mới tiến hành kiểm định ANOVA. Do vậy trước khi tiến hành kiểm định ANOVA, chúng ta cần thực hiện kiểm tra tập dữ liệu cần thỏa mãn 3 tính chất trên.\n",
        "    "
      ]
    },
    {
      "cell_type": "code",
      "metadata": {
        "id": "YaSv8QTVq1NT"
      },
      "source": [
        "#Thư viện\n",
        "import numpy as np\n",
        "from scipy import stats\n",
        "from scipy.stats import f_oneway"
      ],
      "execution_count": 3,
      "outputs": []
    },
    {
      "cell_type": "code",
      "metadata": {
        "id": "G7Z4YM_pq1NT",
        "outputId": "bd56c82f-3c3b-4610-a8f2-ff53b370861e",
        "colab": {
          "base_uri": "https://localhost:8080/"
        }
      },
      "source": [
        "sample_1 =  stats.norm.rvs(loc = 15, scale = 2, size = 100)\n",
        "print(sample_1[:10])"
      ],
      "execution_count": 4,
      "outputs": [
        {
          "output_type": "stream",
          "text": [
            "[13.36252484 15.25760412 14.6539639  15.05433348 13.93276793 14.51995657\n",
            " 13.60510361 16.03771034 13.13298581 16.55063808]\n"
          ],
          "name": "stdout"
        }
      ]
    },
    {
      "cell_type": "code",
      "metadata": {
        "id": "qVBRxodkrzjm"
      },
      "source": [
        "sample_1 = np.random.normal(100,5,1000)\n",
        "sample_2 = np.random.poisson( lam = 8 , size = 1000 )"
      ],
      "execution_count": 5,
      "outputs": []
    },
    {
      "cell_type": "markdown",
      "metadata": {
        "id": "6u_j77xdq1NU"
      },
      "source": [
        "Hãy tham khảo các hướng dẫn sau để kiểm định tính chất thứ 2 bằng phương pháp Shapiro-Wilks đối với sample_1 và sample_2\n",
        "\n",
        "(1) [Tài liệu tham khảo scipy](https://docs.scipy.org/doc/scipy/reference/generated/scipy.stats.shapiro.html)\n",
        "\n",
        "(2) [Hướng dẫn cụ thể của statology](https://www.statology.org/shapiro-wilk-test-python/)"
      ]
    },
    {
      "cell_type": "code",
      "metadata": {
        "id": "ZaiAhuuUq1NU",
        "outputId": "6896b1ee-6fcb-41fa-8e66-566fd65a3bb9",
        "colab": {
          "base_uri": "https://localhost:8080/"
        }
      },
      "source": [
        "#Kiểm định  stats.shapiro(x) của sample_1 và sample_2\n",
        "\n",
        "print('sample_1')\n",
        "st1, p1 = stats.shapiro(sample_1)\n",
        "print('statistic = ',st1)\n",
        "print('p_value = ',p1)\n",
        "\n",
        "\n",
        "if (p1<0.05):\n",
        "    print('Đây không phải dữ liệu phân phối chuẩn', p1)\n",
        "else:\n",
        "    print('Không đủ bằng chứng để bác bỏ: đây là dữ liệu phân phối chuẩn', p1)\n",
        "\n",
        "print('-'*50)\n",
        "print('sample_2')\n",
        "st2, p2 = stats.shapiro(sample_2)\n",
        "print('statistic = ',st2)\n",
        "print('p_value = ',p2)\n",
        "\n",
        "\n",
        "if (p2<0.05):\n",
        "    print('Đây không phải dữ liệu phân phối chuẩn', p2)\n",
        "else:\n",
        "    print('Không đủ bằng chứng để bác bỏ: đây là dữ liệu phân phối chuẩn', p2)"
      ],
      "execution_count": 6,
      "outputs": [
        {
          "output_type": "stream",
          "text": [
            "sample_1\n",
            "statistic =  0.9986996650695801\n",
            "p_value =  0.6883119344711304\n",
            "Không đủ bằng chứng để bác bỏ: đây là dữ liệu phân phối chuẩn 0.6883119344711304\n",
            "--------------------------------------------------\n",
            "sample_2\n",
            "statistic =  0.982949435710907\n",
            "p_value =  2.0255943589120307e-09\n",
            "Đây không phải dữ liệu phân phối chuẩn 2.0255943589120307e-09\n"
          ],
          "name": "stdout"
        }
      ]
    },
    {
      "cell_type": "markdown",
      "metadata": {
        "id": "B4KX3n2bq1NU"
      },
      "source": [
        "Hãy tham khảo các hướng dẫn sau để kiểm định tính chất thứ 3 bằng kiểm định Bartlett hoặc kiểm định Levene\n",
        "\n",
        "(1) [Hướng dẫn tổng quát](https://www.marsja.se/levenes-bartletts-test-of-equality-homogeneity-of-variance-in-python/)\n",
        "\n",
        "(2) [Hướng dẫn ở stackoverflow](https://stackoverflow.com/questions/36141254/how-to-test-for-homoscedasticity-having-the-same-population-variance-in-python)\n",
        "\n",
        "(3) Sử dụng bài giảng về kiểm định Bartlett và Levene ở buổi trước"
      ]
    },
    {
      "cell_type": "code",
      "metadata": {
        "id": "s2oSSo-wq1NV",
        "outputId": "1232b4e8-6f8f-4398-9315-7cfbb951e21d",
        "colab": {
          "base_uri": "https://localhost:8080/"
        }
      },
      "source": [
        "p_3 = stats.levene(sample_1,sample_2)[1]\n",
        "if p_3 > 0.05:\n",
        "    print('Phương sai bằng nhau')\n",
        "else:\n",
        "    print('Phương sai không bằng nhau')"
      ],
      "execution_count": 7,
      "outputs": [
        {
          "output_type": "stream",
          "text": [
            "Phương sai không bằng nhau\n"
          ],
          "name": "stdout"
        }
      ]
    },
    {
      "cell_type": "code",
      "metadata": {
        "id": "LOBrbPXJq1NV"
      },
      "source": [
        ""
      ],
      "execution_count": null,
      "outputs": []
    }
  ]
}