{
  "nbformat": 4,
  "nbformat_minor": 0,
  "metadata": {
    "kernelspec": {
      "display_name": "Python 3",
      "language": "python",
      "name": "python3"
    },
    "language_info": {
      "codemirror_mode": {
        "name": "ipython",
        "version": 3
      },
      "file_extension": ".py",
      "mimetype": "text/x-python",
      "name": "python",
      "nbconvert_exporter": "python",
      "pygments_lexer": "ipython3",
      "version": "3.7.3"
    },
    "colab": {
      "name": "bai-tap-kiem-dinh-z-t.ipynb",
      "provenance": [],
      "include_colab_link": true
    }
  },
  "cells": [
    {
      "cell_type": "markdown",
      "metadata": {
        "id": "view-in-github",
        "colab_type": "text"
      },
      "source": [
        "<a href=\"https://colab.research.google.com/github/TranThiDieuHien/pythonbasics/blob/master/bai_tap_kiem_dinh_z_t.ipynb\" target=\"_parent\"><img src=\"https://colab.research.google.com/assets/colab-badge.svg\" alt=\"Open In Colab\"/></a>"
      ]
    },
    {
      "cell_type": "markdown",
      "metadata": {
        "id": "dBnzOWx5HDa-"
      },
      "source": [
        "XÂY DỰNG CHƯƠNG TRÌNH KIỂM ĐỊNH Z (HOẶC T) CHO CÁC BÀI TẬP SAU\n",
        "\n",
        "Gợi ý:\n",
        "\n",
        "- Số liệu được sinh ngẫu nhiên theo phân phối chuẩn\n",
        "- Sử dụng gói phần mềm statsmodels để tiến hành kiểm định\n",
        "- Đối với các bài tập kiểm định giả thuyết thì sinh viên cần phát biểu các giả thuyết (bằng tiếng Việt) $H_{0}$ và $H_{a}$ trước khi lập trình kiểm định"
      ]
    },
    {
      "cell_type": "markdown",
      "metadata": {
        "id": "BdZEFdNoHDbD"
      },
      "source": [
        "Bài 1: You’re a Q/C inspector for Gallo. The sample standard deviation for 2-liter bottles is .05 liters.  A random sample of 100 bottles showed sasmple mean = 1.99 liters.  What is the 90%  confidence interval estimate of the true mean amount in 2-liter bottles? "
      ]
    },
    {
      "cell_type": "code",
      "metadata": {
        "id": "5m27kfJ9HDbE"
      },
      "source": [
        "import numpy as np\n",
        "import pandas as pd\n",
        "import random\n",
        "from scipy import stats\n",
        "from statsmodels.stats.weightstats import ztest\n",
        "import warnings\n",
        "import matplotlib.pyplot as plt\n",
        "import seaborn as sns\n",
        "%matplotlib inline\n",
        "from statsmodels.stats import weightstats"
      ],
      "execution_count": 136,
      "outputs": []
    },
    {
      "cell_type": "code",
      "metadata": {
        "colab": {
          "base_uri": "https://localhost:8080/"
        },
        "id": "tjXmYdGRHKcK",
        "outputId": "4daf1249-a2a9-40fa-d2cd-6f130da6e18a"
      },
      "source": [
        "#std = 0.05, n = 100, mean = 2, alpha = 0.1\n",
        "means = 2\n",
        "samples = np.random.normal(2, 0.05, 100)\n",
        "#Kiểm định giả thuyết\n",
        "null_mean = 1.99\n",
        "alpha_01 = 0.1\n",
        "ztest_score, p_value = ztest(samples, value = null_mean, alternative = 'two-sided')\n",
        "print('z = ', ztest_score, '; p = ', p_value)\n",
        "if(p_value <  alpha_01):\n",
        "  print(\"Có bằng chứng để bác bỏ giả thuyết H0\")\n",
        "else:\n",
        "  print(\"Chưa có bằng chứng để bác bỏ giả thuyết H0\")\n",
        "  #Tính khoảng tin cậy\n",
        "KTC = st.t.interval(0.9, len(samples)-1, means, scale=st.sem(samples))\n",
        "print(\"Khoảng tin cậy 90% của giá trị trung bình thực trong chai 2 lít là\", KTC)"
      ],
      "execution_count": 139,
      "outputs": [
        {
          "output_type": "stream",
          "text": [
            "z =  3.017366532017305 ; p =  0.002549812978476202\n",
            "Có bằng chứng để bác bỏ giả thuyết H0\n",
            "Khoảng tin cậy 90% của giá trị trung bình thực trong chai 2 lít là (1.9913765994058468, 2.0086234005941535)\n"
          ],
          "name": "stdout"
        }
      ]
    },
    {
      "cell_type": "markdown",
      "metadata": {
        "id": "r4eovoSdHDbE"
      },
      "source": [
        "Bài 2: You’re a time study analyst in manufacturing.  You’ve recorded the following task times (min.): 3.6, 4.2, 4.0, 3.5, 3.8, 3.1. What is the 90% confidence interval estimate of the population mean task time? "
      ]
    },
    {
      "cell_type": "code",
      "metadata": {
        "colab": {
          "base_uri": "https://localhost:8080/"
        },
        "id": "m3ZmRU7FHDbE",
        "outputId": "cd916496-0ace-4be6-858e-9176818ed6f2"
      },
      "source": [
        "import statistics as sta\n",
        "import numpy as np, scipy.stats as st\n",
        "\n",
        "times = [3.6, 4.2, 4.0, 3.5, 3.8, 3.1]\n",
        "mean = sta.mean(times)\n",
        "ktc = st.t.interval(0.9, len(times)-1, mean, scale=st.sem(times))\n",
        "print(\"Khoảng tin cậy 90% của thời gian thực hiện nhiệm vụ trung bình của tổng thể là\", ktc)"
      ],
      "execution_count": 140,
      "outputs": [
        {
          "output_type": "stream",
          "text": [
            "Khoảng tin cậy 90% của thời gian thực hiện nhiệm vụ trung bình của tổng thể là (3.379275863210067, 4.020724136789934)\n"
          ],
          "name": "stdout"
        }
      ]
    },
    {
      "cell_type": "markdown",
      "metadata": {
        "id": "iCt-YBd4HDbF"
      },
      "source": [
        "Bài 3: Does an average box of cereal contain 368 grams of cereal?  A random sample of 25 boxes had $\\overline{\\rm x}$ = 372.5.  The company has specified $\\sigma$ to be 25 grams.  Test at the .05 level of significance."
      ]
    },
    {
      "cell_type": "code",
      "metadata": {
        "colab": {
          "base_uri": "https://localhost:8080/"
        },
        "id": "2Q7zDbdnHDbF",
        "outputId": "809f896d-03b6-4906-ac51-59a5174136cc"
      },
      "source": [
        "#std = 25, n = 25, mean = 368, alpha = 0.05\n",
        "sample1 = np.random.normal(368, 25, 25)\n",
        "#Kiểm định giả thuyết\n",
        "null_mean = 372.5\n",
        "alpha = 0.05\n",
        "ztest_Score, p_value= ztest(sample3, value = null_mean3, alternative='two-sided')\n",
        "print('z = ', ztest_score, '; p = ', p_value)\n",
        "if(p_value <  alpha):\n",
        "  print(\"Có bằng chứng để bác bỏ giả thuyết H0\")\n",
        "else:\n",
        "  print(\"Chưa có bằng chứng để bác bỏ giả thuyết H0\")"
      ],
      "execution_count": 141,
      "outputs": [
        {
          "output_type": "stream",
          "text": [
            "z =  3.017366532017305 ; p =  0.1634658452766916\n",
            "Chưa có bằng chứng để bác bỏ giả thuyết H0\n"
          ],
          "name": "stdout"
        }
      ]
    },
    {
      "cell_type": "markdown",
      "metadata": {
        "id": "fMale4qQHDbF"
      },
      "source": [
        "Bài 4: You’re a Q/C inspector.  You want to find out if a new machine is making electrical cords to customer specification: average breaking strength of 70 lb. with $\\sigma$ = 3.5 lb.  You take a sample of 36 cords & compute a sample mean of 69.7 lb.  At the .05 level of significance, is there evidence that the machine is not meeting the average breaking strength?"
      ]
    },
    {
      "cell_type": "code",
      "metadata": {
        "colab": {
          "base_uri": "https://localhost:8080/"
        },
        "id": "nufmlXIqHDbF",
        "outputId": "e44cf603-2240-4259-bc18-8221f39d4320"
      },
      "source": [
        "#Sinh ngẫu nhiên một mẫu 36 phần tử có trung bình mẫu là 70, độ lệch chuẩn là 3.5\n",
        "sample2 = np.random.normal(70, 3.5, 36)\n",
        "null_mean2 = 69.7\n",
        "alpha = 0.05\n",
        "#Kiểm định z\n",
        "ztest_Score, p_value= ztest(sample2, value = null_mean2, alternative='two-sided')\n",
        "print('z = ', ztest_score, '; p = ', p_value)\n",
        "if(p_value <  alpha):\n",
        "  print(\"Có bằng chứng để bác bỏ giả thuyết cho thấy máy không đạt độ bền đứt trung bình\")\n",
        "else:\n",
        "  print(\"Chưa có bằng chứng để bác bỏ giả thuyết cho thấy máy không đạt độ bền đứt trung bình\")\n"
      ],
      "execution_count": 142,
      "outputs": [
        {
          "output_type": "stream",
          "text": [
            "z =  3.017366532017305 ; p =  0.5894904066514436\n",
            "Chưa có bằng chứng để bác bỏ giả thuyết cho thấy máy không đạt độ bền đứt trung bình\n"
          ],
          "name": "stdout"
        }
      ]
    },
    {
      "cell_type": "markdown",
      "metadata": {
        "id": "UjFOBvPqHDbG"
      },
      "source": [
        "Bài 5: Does an average box of cereal contain more than 368 grams of cereal?  A random sample of 25 boxes showed $\\overline{\\rm x}$ =  372.5.  The company has specified $\\sigma$ to be 25 grams.  Test at the .05 level of significance."
      ]
    },
    {
      "cell_type": "code",
      "metadata": {
        "colab": {
          "base_uri": "https://localhost:8080/"
        },
        "id": "usUzQN_8HDbG",
        "outputId": "1ca0ca87-1f49-4db0-abbf-909fb082e8ca"
      },
      "source": [
        "#std = 25, n = 25, mean = 368, alpha = 0.05\n",
        "sample3 = np.random.normal(368, 25, 25)\n",
        "#Kiểm định giả thuyết\n",
        "null_mean3 = 372.5\n",
        "alpha = 0.05\n",
        "ztest_Score, p_value= ztest(sample3, value = null_mean3, alternative='larger')\n",
        "print('z = ', ztest_score, '; p = ', p_value)\n",
        "if(p_value <  alpha):\n",
        "  print(\"Có bằng chứng để bác bỏ giả thuyết H0\")\n",
        "else:\n",
        "  print(\"Chưa có bằng chứng để bác bỏ giả thuyết H0\")"
      ],
      "execution_count": 143,
      "outputs": [
        {
          "output_type": "stream",
          "text": [
            "z =  3.017366532017305 ; p =  0.6553519724963671\n",
            "Chưa có bằng chứng để bác bỏ giả thuyết H0\n"
          ],
          "name": "stdout"
        }
      ]
    },
    {
      "cell_type": "markdown",
      "metadata": {
        "id": "chuENCvMHDbG"
      },
      "source": [
        "Bài 6: You’re an analyst for Ford.  You want to find out if the average miles per gallon of Escorts is at least 32 mpg. Similar models have a standard deviation of 3.8 mpg. You take a sample of 60 Escorts & compute a sample mean of 30.7 mpg. At the .01 level of significance, is there evidence that the miles per gallon is less than 32?"
      ]
    },
    {
      "cell_type": "code",
      "metadata": {
        "colab": {
          "base_uri": "https://localhost:8080/"
        },
        "id": "tN_08eVdHDbG",
        "outputId": "f36d102d-d864-43e1-ad16-24016ce7fa00"
      },
      "source": [
        "#mean = 32, std = 3.8, n = 60\n",
        "sample4 = np.random.normal(32, 3.8, 60)\n",
        "print(sample4[:10])\n",
        "#Kiểm định giả thuyết\n",
        "null_mean4 = 30.7\n",
        "alpha4 = 0.01\n",
        "ztest_score4, p_value4= ztest(sample4, value = null_mean4, alternative='smaller')\n",
        "print('z = ', ztest_score4, '; p = ', p_value4)\n",
        "if(p_value4 <  alpha4):\n",
        "  print(\"Có bằng chứng để bác bỏ giả thuyết H0\")\n",
        "else:\n",
        "  print(\"Chưa có bằng chứng để bác bỏ giả thuyết H0\")"
      ],
      "execution_count": 145,
      "outputs": [
        {
          "output_type": "stream",
          "text": [
            "[29.07137142 29.18437924 38.35364837 31.05586909 30.93120344 37.77617049\n",
            " 35.06927029 33.06927532 27.69205352 32.4896684 ]\n",
            "z =  4.982947767897777 ; p =  0.9999996868857043\n",
            "Chưa có bằng chứng để bác bỏ giả thuyết H0\n"
          ],
          "name": "stdout"
        }
      ]
    },
    {
      "cell_type": "markdown",
      "metadata": {
        "id": "o0Aek0KOHDbG"
      },
      "source": [
        "Bài 7: Does an average box of cereal contain 368 grams of cereal?  A random sample of 25 boxes showed $\\overline{\\rm x}$ = 372.5.  The company has specified $\\sigma$ to be 15 grams.  Find the p-Value."
      ]
    },
    {
      "cell_type": "code",
      "metadata": {
        "colab": {
          "base_uri": "https://localhost:8080/"
        },
        "id": "5zcdTXGsHDbH",
        "outputId": "6d7c8291-c275-466a-b4cd-5ea617d182a5"
      },
      "source": [
        "#std = 15, n = 25, mean = 368\n",
        "sample3 = np.random.normal(368, 15, 25)\n",
        "#Kiểm định giả thuyết\n",
        "null_mean3 = 372.5\n",
        "ztest_Score, p_value= ztest(sample3, value = null_mean3, alternative='two-sided')\n",
        "print('z = ', ztest_score, '; p = ', p_value)"
      ],
      "execution_count": 146,
      "outputs": [
        {
          "output_type": "stream",
          "text": [
            "z =  3.017366532017305 ; p =  0.7770894125956486\n"
          ],
          "name": "stdout"
        }
      ]
    },
    {
      "cell_type": "markdown",
      "metadata": {
        "id": "E3xFQHEcHDbH"
      },
      "source": [
        "Bài 8: Does an average box of cereal contain more than 368 grams of cereal?  A random sample of 25 boxes showed $\\overline{\\rm x}$ = 372.5.  The company has specified $\\sigma$ to be 15 grams.  Find the p-Value."
      ]
    },
    {
      "cell_type": "code",
      "metadata": {
        "colab": {
          "base_uri": "https://localhost:8080/"
        },
        "id": "7yHhg_02HDbH",
        "outputId": "7cb02d5d-c2e4-41a3-9312-8aa3d057156b"
      },
      "source": [
        "#std = 15, n = 25, mean = 368\n",
        "sample3 = np.random.normal(368, 15, 25)\n",
        "#Kiểm định giả thuyết\n",
        "null_mean3 = 372.5\n",
        "ztest_Score, p_value= ztest(sample3, value = null_mean3, alternative='larger')\n",
        "print('z = ', ztest_score, '; p = ', p_value)"
      ],
      "execution_count": 147,
      "outputs": [
        {
          "output_type": "stream",
          "text": [
            "z =  3.017366532017305 ; p =  0.993215555801911\n"
          ],
          "name": "stdout"
        }
      ]
    },
    {
      "cell_type": "markdown",
      "metadata": {
        "id": "5b-MgCfKHDbH"
      },
      "source": [
        "Bài 9: You’re an analyst for Ford.  You want to find out if the average miles per gallon of Escorts is less than 32 mpg.   Similar models have a standard deviation of 3.8 mpg.  You take a sample of 60 Escorts & compute a sample mean of 30.7 mpg.  What is the value of the observed level of significance (p-Value)?"
      ]
    },
    {
      "cell_type": "code",
      "metadata": {
        "colab": {
          "base_uri": "https://localhost:8080/"
        },
        "id": "PYohbucwHDbH",
        "outputId": "6ffdec88-14d8-49f6-edd9-9cb05566760c"
      },
      "source": [
        "#mean = 32, std = 3.8, n = 60\n",
        "sample4 = np.random.normal(32, 3.8, 60)\n",
        "#Kiểm định giả thuyết\n",
        "null_mean4 = 30.7\n",
        "ztest_score4, p_value4= ztest(sample4, value = null_mean4, alternative='two-sided')\n",
        "print('z = ', ztest_score4, '; p = ', p_value4)"
      ],
      "execution_count": 148,
      "outputs": [
        {
          "output_type": "stream",
          "text": [
            "z =  2.9581941696640666 ; p =  0.003094471351952195\n"
          ],
          "name": "stdout"
        }
      ]
    },
    {
      "cell_type": "markdown",
      "metadata": {
        "id": "du96rdp5HDbI"
      },
      "source": [
        "Bài 10: Does an average box of cereal contain 368 grams of cereal?  A random sample of 36 boxes had a mean of 372.5 and a standard deviation of 12 grams. Test at the .05 level of significance."
      ]
    },
    {
      "cell_type": "code",
      "metadata": {
        "colab": {
          "base_uri": "https://localhost:8080/"
        },
        "id": "L7bUzP2wHDbI",
        "outputId": "7fd0dbaa-1b8a-42cc-c1ec-6a35e8d9a501"
      },
      "source": [
        "#std = 12, n = 36, mean = 368, alpha = 0.05\n",
        "sample10 = np.random.normal(368, 12, 36)\n",
        "#Kiểm định giả thuyết\n",
        "null_mean10 = 372.5\n",
        "alpha = 0.05\n",
        "ztest_Score, p_value= ztest(sample10, value = null_mean10, alternative='two-sided')\n",
        "print('z = ', ztest_score, '; p = ', p_value)\n",
        "if(p_value <  alpha):\n",
        "  print(\"Có bằng chứng để bác bỏ giả thuyết H0\")\n",
        "else:\n",
        "  print(\"Chưa có bằng chứng để bác bỏ giả thuyết H0\")"
      ],
      "execution_count": 155,
      "outputs": [
        {
          "output_type": "stream",
          "text": [
            "z =  3.017366532017305 ; p =  0.0005265107107941228\n",
            "Có bằng chứng để bác bỏ giả thuyết H0\n"
          ],
          "name": "stdout"
        }
      ]
    },
    {
      "cell_type": "markdown",
      "metadata": {
        "id": "Aqko21q-HDbI"
      },
      "source": [
        "Bài 11: You work for the FTC.  A manufacturer of detergent claims that the mean weight of detergent is 3.25 lb.  You take a random sample of 64 containers.  You calculate the sample average to be 3.238 lb. with a standard deviation of .117 lb.  At the .01 level of significance, is the manufacturer correct?"
      ]
    },
    {
      "cell_type": "code",
      "metadata": {
        "colab": {
          "base_uri": "https://localhost:8080/"
        },
        "id": "0vemJnUbcIae",
        "outputId": "f5860ff9-0eb2-4f71-c079-2c3858fc434d"
      },
      "source": [
        "#mean = 3.25, n = 64, std = 0.117\n",
        "sample11 = np.random.normal(3.25, 0.117, 64)\n",
        "#Kiểm định giả thuyết\n",
        "null_mean11 = 3.238\n",
        "alpha = 0.01\n",
        "ztest_Score, p_value= ztest(sample11, value = null_mean11, alternative='two-sided')\n",
        "print('z = ', ztest_Score, '; p = ', p_value)\n",
        "if(p_value <  alpha):\n",
        "  print(\"Có bằng chứng để bác bỏ giả thuyết H0\")\n",
        "else:\n",
        "  print(\"Chưa có bằng chứng để bác bỏ giả thuyết H0\")"
      ],
      "execution_count": 156,
      "outputs": [
        {
          "output_type": "stream",
          "text": [
            "z =  0.8350931746341855 ; p =  0.40366524933754555\n",
            "Chưa có bằng chứng để bác bỏ giả thuyết H0\n"
          ],
          "name": "stdout"
        }
      ]
    },
    {
      "cell_type": "markdown",
      "metadata": {
        "id": "qIYf3D7fHDbI"
      },
      "source": [
        "Bài 12: Is the average capacity of batteries less than 140 ampere-hours?  A random sample of 20 batteries had a mean of 138.47 and a standard deviation of 2.66.  Assume a normal distribution. Test at the .05 level of significance."
      ]
    },
    {
      "cell_type": "code",
      "metadata": {
        "colab": {
          "base_uri": "https://localhost:8080/"
        },
        "id": "t2R8QMXpHDbI",
        "outputId": "3761ac07-5dd0-40aa-b96a-8ccff378b777"
      },
      "source": [
        "#mean = 140, n = 20, std = 2.66\n",
        "sample12 = np.random.normal(140, 2.66, 20)\n",
        "#Kiểm định giả thuyết\n",
        "null_mean12 = 138.47\n",
        "alpha12 = 0.05\n",
        "ztest_Score12, p_value12= ztest(sample12, value = null_mean12, alternative='two-sided')\n",
        "print('z = ', ztest_Score12, '; p = ', p_value12)\n",
        "if(p_value12 <  alpha):\n",
        "  print(\"Có bằng chứng để bác bỏ giả thuyết H0\")\n",
        "else:\n",
        "  print(\"Chưa có bằng chứng để bác bỏ giả thuyết H0\")"
      ],
      "execution_count": 157,
      "outputs": [
        {
          "output_type": "stream",
          "text": [
            "z =  1.8514125026176333 ; p =  0.06411023177522332\n",
            "Chưa có bằng chứng để bác bỏ giả thuyết H0\n"
          ],
          "name": "stdout"
        }
      ]
    },
    {
      "cell_type": "markdown",
      "metadata": {
        "id": "1ytI19t9HDbJ"
      },
      "source": [
        "Bài 13: You’re a marketing analyst for Wal-Mart.  Wal-Mart had teddy bears on sale last week.  The weekly sales of bears sold in 10 stores was: 8  11  0   4   7   8   10   5   8   3. At the .05 level of significance, is there evidence that the average bear sales per store is more than 5?"
      ]
    },
    {
      "cell_type": "code",
      "metadata": {
        "colab": {
          "base_uri": "https://localhost:8080/"
        },
        "id": "U4mAm47WHDbJ",
        "outputId": "9748b87e-5933-49ed-8a79-687e2379e9a4"
      },
      "source": [
        "data = [8, 11, 0, 4, 7, 8, 10, 5, 8, 3]\n",
        "means = sta.mean(data)\n",
        "std = np.std(data)\n",
        "n = len(data)\n",
        "#Kiểm đinh giả thuyết\n",
        "null_mean13 = 5\n",
        "alpha13 = 0.05\n",
        "ztest_Score13, p_value13 = ztest(data, value = null_mean13, alternative='two-sided')\n",
        "print('z = ', ztest_Score13, '; p = ', p_value13)\n",
        "if(p_value13 <  alpha):\n",
        "  print(\"Có bằng chứng để bác bỏ giả thuyết H0\")\n",
        "else:\n",
        "  print(\"Chưa có bằng chứng để bác bỏ giả thuyết H0\")"
      ],
      "execution_count": 158,
      "outputs": [
        {
          "output_type": "stream",
          "text": [
            "z =  1.3125000000000004 ; p =  0.1893514860432851\n",
            "Chưa có bằng chứng để bác bỏ giả thuyết H0\n"
          ],
          "name": "stdout"
        }
      ]
    },
    {
      "cell_type": "code",
      "metadata": {
        "id": "F3G4h8AjHDbJ"
      },
      "source": [
        ""
      ],
      "execution_count": null,
      "outputs": []
    }
  ]
}