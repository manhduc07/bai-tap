{
  "nbformat": 4,
  "nbformat_minor": 0,
  "metadata": {
    "colab": {
      "name": "bai tap.ipynb",
      "provenance": [],
      "authorship_tag": "ABX9TyNx91pW6YRSGD2+JANZ/Iug",
      "include_colab_link": true
    },
    "kernelspec": {
      "name": "python3",
      "display_name": "Python 3"
    }
  },
  "cells": [
    {
      "cell_type": "markdown",
      "metadata": {
        "id": "view-in-github",
        "colab_type": "text"
      },
      "source": [
        "<a href=\"https://colab.research.google.com/github/manhduc07/bai-tap/blob/master/bai_tap.ipynb\" target=\"_parent\"><img src=\"https://colab.research.google.com/assets/colab-badge.svg\" alt=\"Open In Colab\"/></a>"
      ]
    },
    {
      "cell_type": "markdown",
      "metadata": {
        "id": "cmRMBKmGo841"
      },
      "source": [
        "Bài tập 1:"
      ]
    },
    {
      "cell_type": "code",
      "metadata": {
        "id": "d4CT8WzrrGHO",
        "outputId": "cbfec669-36bf-4fc8-ed51-016c84b56faa",
        "colab": {
          "base_uri": "https://localhost:8080/",
          "height": 140
        }
      },
      "source": [
        "input(\"nhập a =9 \")\n",
        "input(\"nhập b =6 \")\n",
        "a=int(9)\n",
        "b=int(6)\n",
        "c = a + b\n",
        "d = a * b\n",
        "h = a - b\n",
        "e = a % b\n",
        "q = a // b\n",
        "print(\"tổng a+b=\",c)\n",
        "print(\"tích a*b=\",d)\n",
        "print(\"hiệu a-b=\",h)\n",
        "print(\"phép chia lấy phần dư a%b=\",e)\n",
        "print(\"phép chia lấy phần nguyên a//b=\",q)"
      ],
      "execution_count": 156,
      "outputs": [
        {
          "output_type": "stream",
          "text": [
            "nhập a =9 \n",
            "nhập b =6 \n",
            "tổng a+b= 15\n",
            "tích a*b= 54\n",
            "hiệu a-b= 3\n",
            "phép chia lấy phần dư a%b= 3\n",
            "phép chia lấy phần nguyên a//b= 1\n"
          ],
          "name": "stdout"
        }
      ]
    },
    {
      "cell_type": "markdown",
      "metadata": {
        "id": "uNZF-mTcuLNm"
      },
      "source": [
        "Bài tập 2:"
      ]
    },
    {
      "cell_type": "code",
      "metadata": {
        "id": "m7e3lOX9uJ3o",
        "outputId": "72538fd0-4ee4-4831-96f0-f2f4c2bf5d8c",
        "colab": {
          "base_uri": "https://localhost:8080/",
          "height": 122
        }
      },
      "source": [
        "a = input(\"nhập a=5.6 \")\n",
        "b = input(\"nhập b=7.3 \")\n",
        "a = float(5.6)\n",
        "b = float(7.3)\n",
        "c = a+b\n",
        "d = a*b\n",
        "e = a-b\n",
        "g = a/b\n",
        "print(\"tổng a+b=\",c)\n",
        "print(\"tích a*b=\",d)\n",
        "print(\"hiệu a-b=\",e)\n",
        "print(\"thương a/b=\",g)"
      ],
      "execution_count": 157,
      "outputs": [
        {
          "output_type": "stream",
          "text": [
            "nhập a=5.6 \n",
            "nhập b=7.3 \n",
            "tổng a+b= 12.899999999999999\n",
            "tích a*b= 40.879999999999995\n",
            "hiệu a-b= -1.7000000000000002\n",
            "thương a/b= 0.7671232876712328\n"
          ],
          "name": "stdout"
        }
      ]
    },
    {
      "cell_type": "markdown",
      "metadata": {
        "id": "mw1sj85BNfGB"
      },
      "source": [
        "Bài tập 3:"
      ]
    },
    {
      "cell_type": "code",
      "metadata": {
        "id": "rs5_lFT5NiWn",
        "outputId": "669d7029-83f9-4610-a688-483bca1b6c5d",
        "colab": {
          "base_uri": "https://localhost:8080/",
          "height": 140
        }
      },
      "source": [
        "input(\"nhập x=-7.5\")\n",
        "print(\"trị tuyệt đối của x là\",abs(x))\n",
        "print(\"lấy phần nguyên của số\",int(x))\n",
        "print(\"chuyển đổi thành số thực\",float(x))\n",
        "input(\"nhập y=4\")\n",
        "print(\"lũy thừa \",pow(x,y))\n",
        "print(\"căn bậc 2 của y là\",y*(0.5))"
      ],
      "execution_count": 164,
      "outputs": [
        {
          "output_type": "stream",
          "text": [
            "nhập x=-7.5\n",
            "trị tuyệt đối của x là 7.5\n",
            "lấy phần nguyên của số -7\n",
            "chuyển đổi thành số thực -7.5\n",
            "nhập y=4\n",
            "lũy thừa  3164.0625\n",
            "căn bậc 2 của y là 2.0\n"
          ],
          "name": "stdout"
        }
      ]
    },
    {
      "cell_type": "markdown",
      "metadata": {
        "id": "nXA9PRYNzesi"
      },
      "source": [
        "Bài tập 4:"
      ]
    },
    {
      "cell_type": "code",
      "metadata": {
        "id": "g8WmXY8Azduk",
        "outputId": "0e989e5d-3c67-4424-94d8-82e482cb9764",
        "colab": {
          "base_uri": "https://localhost:8080/",
          "height": 140
        }
      },
      "source": [
        "input(\"nhập m= 29\")\n",
        "input(\"nhập n= 10\")\n",
        "print(\"m >= n\", m >= n)\n",
        "print(\"m <= n\",m <= n)\n",
        "print(\"m > n\",m > n)\n",
        "print(\"m < n\",m < n)\n",
        "print(\"m != n\",m != n)"
      ],
      "execution_count": 165,
      "outputs": [
        {
          "output_type": "stream",
          "text": [
            "nhập m= 29\n",
            "nhập n= 10\n",
            "m >= n True\n",
            "m <= n False\n",
            "m > n True\n",
            "m < n False\n",
            "m != n True\n"
          ],
          "name": "stdout"
        }
      ]
    },
    {
      "cell_type": "markdown",
      "metadata": {
        "id": "CqkqkXMhKXyh"
      },
      "source": [
        "Bài tập 5:"
      ]
    },
    {
      "cell_type": "code",
      "metadata": {
        "id": "Oapvf7qdKbA2",
        "outputId": "75935571-4fb1-4322-edd6-6cb48bc6ba6d",
        "colab": {
          "base_uri": "https://localhost:8080/",
          "height": 52
        }
      },
      "source": [
        "a = \"Hello I'm Here\"\n",
        "print(\"Chuyển thành chuỗi in thường:\",a.lower())\n",
        "print(\"Chuyển thành chuỗi in hoa:\",a.upper())"
      ],
      "execution_count": 166,
      "outputs": [
        {
          "output_type": "stream",
          "text": [
            "Chuyển thành chuỗi in thường: hello i'm here\n",
            "Chuyển thành chuỗi in hoa: HELLO I'M HERE\n"
          ],
          "name": "stdout"
        }
      ]
    },
    {
      "cell_type": "markdown",
      "metadata": {
        "id": "NFOfPv5UT3fk"
      },
      "source": [
        "Bài tập 6:"
      ]
    },
    {
      "cell_type": "code",
      "metadata": {
        "id": "-WWeBbglT5yh",
        "outputId": "b948b57d-9687-4a65-f38c-ee6b9f423c6b",
        "colab": {
          "base_uri": "https://localhost:8080/",
          "height": 193
        }
      },
      "source": [
        "m = \"\"\"Vài người làm em đắm say (i know)\n",
        "Vài người mà em nắm tay(i know) \n",
        "Vài người làm em ngất ngây đêm ngày\n",
        "I know you, love it !\n",
        "Một người vì em trắng tay(I am) \n",
        "Một người mà em chẳng hay (Am I ?)\n",
        "Một người vì em cứ xoay xoay vòng\n",
        "It's OK\n",
        "It's OK\n",
        "I love it\"\"\"\n",
        "print(m)"
      ],
      "execution_count": 167,
      "outputs": [
        {
          "output_type": "stream",
          "text": [
            "Vài người làm em đắm say (i know)\n",
            "Vài người mà em nắm tay(i know) \n",
            "Vài người làm em ngất ngây đêm ngày\n",
            "I know you, love it !\n",
            "Một người vì em trắng tay(I am) \n",
            "Một người mà em chẳng hay (Am I ?)\n",
            "Một người vì em cứ xoay xoay vòng\n",
            "It's OK\n",
            "It's OK\n",
            "I love it\n"
          ],
          "name": "stdout"
        }
      ]
    }
  ]
}