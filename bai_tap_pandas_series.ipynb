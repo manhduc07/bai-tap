{
  "nbformat": 4,
  "nbformat_minor": 0,
  "metadata": {
    "kernelspec": {
      "display_name": "Python 3",
      "language": "python",
      "name": "python3"
    },
    "language_info": {
      "codemirror_mode": {
        "name": "ipython",
        "version": 3
      },
      "file_extension": ".py",
      "mimetype": "text/x-python",
      "name": "python",
      "nbconvert_exporter": "python",
      "pygments_lexer": "ipython3",
      "version": "3.7.3"
    },
    "colab": {
      "name": "bai-tap-pandas-series.ipynb",
      "provenance": [],
      "include_colab_link": true
    }
  },
  "cells": [
    {
      "cell_type": "markdown",
      "metadata": {
        "id": "view-in-github",
        "colab_type": "text"
      },
      "source": [
        "<a href=\"https://colab.research.google.com/github/manhduc07/bai-tap/blob/master/bai_tap_pandas_series.ipynb\" target=\"_parent\"><img src=\"https://colab.research.google.com/assets/colab-badge.svg\" alt=\"Open In Colab\"/></a>"
      ]
    },
    {
      "cell_type": "markdown",
      "metadata": {
        "id": "KpgXv8d1sD6R"
      },
      "source": [
        "Câu 1: Hãy tạo 1 đối tượng kiểu Series có tối thiểu 10 phần tử (kiểu số) với giá trị tùy ý thích của bạn. \n",
        "       In giá trị của Series đó ra màn hình"
      ]
    },
    {
      "cell_type": "code",
      "metadata": {
        "id": "kBXJkRHBs9Oy"
      },
      "source": [
        "import numpy as np\n",
        "import pandas as pd"
      ],
      "execution_count": 2,
      "outputs": []
    },
    {
      "cell_type": "code",
      "metadata": {
        "id": "opJP59-msD6X",
        "outputId": "991cf5c7-fe54-41bf-d100-d50439c789d9",
        "colab": {
          "base_uri": "https://localhost:8080/"
        }
      },
      "source": [
        "jk = pd.Series(np.random.randint(300,size = 10))\n",
        "print (jk)"
      ],
      "execution_count": 39,
      "outputs": [
        {
          "output_type": "stream",
          "text": [
            "0    283\n",
            "1    153\n",
            "2    268\n",
            "3    194\n",
            "4    171\n",
            "5     49\n",
            "6    246\n",
            "7    278\n",
            "8    153\n",
            "9    268\n",
            "dtype: int64\n"
          ],
          "name": "stdout"
        }
      ]
    },
    {
      "cell_type": "markdown",
      "metadata": {
        "id": "ZzlEOLtysD6X"
      },
      "source": [
        "Câu 2: Hãy tạo 1 đối tượng kiểu Series với giá trị khởi tạo hình thành từ dữ liệu kiểu Dictionary. In kết quả ra màn hình"
      ]
    },
    {
      "cell_type": "code",
      "metadata": {
        "id": "ea1s6At2sD6Y",
        "outputId": "f19fae77-6ee5-4f88-9513-91fab05496aa",
        "colab": {
          "base_uri": "https://localhost:8080/"
        }
      },
      "source": [
        "dict_1 = {'biệt danh':'Dứa', 'Tên': 'Mạnh', 'công việc': 'sinh viên', 'tuổi': 19, 'ước mơ': 'qua môn'}\n",
        "M = pd.Series(dict_1)\n",
        "print(M)"
      ],
      "execution_count": 6,
      "outputs": [
        {
          "output_type": "stream",
          "text": [
            "biệt danh          Dứa\n",
            "Tên               Mạnh\n",
            "công việc    sinh viên\n",
            "tuổi                19\n",
            "ước mơ         qua môn\n",
            "dtype: object\n"
          ],
          "name": "stdout"
        }
      ]
    },
    {
      "cell_type": "markdown",
      "metadata": {
        "id": "bazzUA_jsD6Y"
      },
      "source": [
        "Câu 3: Sử dụng series ở câu 1, hãy thay đổi giá trị của cột index từ kiểu số theo kiểu ký tự với giá trị do bạn tự xác định."
      ]
    },
    {
      "cell_type": "code",
      "metadata": {
        "id": "1WhGp44QsD6Y",
        "outputId": "be7c6bd5-b773-4680-ebe1-dc6d44ee150a",
        "colab": {
          "base_uri": "https://localhost:8080/"
        }
      },
      "source": [
        "jk_id = []\n",
        "for i in jk.index:\n",
        "    jk_id.append(f'số thứ {i}:')\n",
        "S2 = pd.Series(jk.values, index=jk_id)\n",
        "S2"
      ],
      "execution_count": 42,
      "outputs": [
        {
          "output_type": "execute_result",
          "data": {
            "text/plain": [
              "số thứ 0:     70\n",
              "số thứ 1:     38\n",
              "số thứ 2:    242\n",
              "số thứ 3:     76\n",
              "số thứ 4:    229\n",
              "số thứ 5:    193\n",
              "số thứ 6:    292\n",
              "số thứ 7:     38\n",
              "số thứ 8:    198\n",
              "số thứ 9:      7\n",
              "dtype: int64"
            ]
          },
          "metadata": {
            "tags": []
          },
          "execution_count": 42
        }
      ]
    },
    {
      "cell_type": "markdown",
      "metadata": {
        "id": "eT6Ax6GIsD6Z"
      },
      "source": [
        "Câu 4: Sử dụng series ở câu 2, hãy truy cập đến phần tử thứ 5 và in ra màn hình"
      ]
    },
    {
      "cell_type": "code",
      "metadata": {
        "id": "tvw9mUXEsD6Z",
        "outputId": "24fa502b-8205-4305-d5cf-c7329a4a941b",
        "colab": {
          "base_uri": "https://localhost:8080/"
        }
      },
      "source": [
        "print(M[4])"
      ],
      "execution_count": 8,
      "outputs": [
        {
          "output_type": "stream",
          "text": [
            "qua môn\n"
          ],
          "name": "stdout"
        }
      ]
    },
    {
      "cell_type": "markdown",
      "metadata": {
        "id": "1dJWcTeZsD6Z"
      },
      "source": [
        "Câu 5: Sử dụng series ở câu 3, hãy truy cập đến 1 phần tử dựa theo chỉ số kiểu ký tự do bạn lựa chọn và in ra màn hình"
      ]
    },
    {
      "cell_type": "code",
      "metadata": {
        "id": "gA_bZuUpsD6Z",
        "outputId": "93a90209-8e70-4a98-cd21-92daa1c4ed56",
        "colab": {
          "base_uri": "https://localhost:8080/"
        }
      },
      "source": [
        "print(S2['số thứ 7:'])"
      ],
      "execution_count": 43,
      "outputs": [
        {
          "output_type": "stream",
          "text": [
            "38\n"
          ],
          "name": "stdout"
        }
      ]
    },
    {
      "cell_type": "markdown",
      "metadata": {
        "id": "6fHu_puEsD6a"
      },
      "source": [
        "Câu 6: Sử dụng series ở câu 3, hãy tìm ra tính chất đặc thù trong các chỉ số kiểu kí tự, thực hiện vòng lặp for duyệt trên các chỉ mục kiểu kí tự này để lọc ra những phần tử thỏa mãn điều kiện và in ra màn hình"
      ]
    },
    {
      "cell_type": "code",
      "metadata": {
        "id": "pX9hLIFhsD6a"
      },
      "source": [
        "#Lấy các số thứ (0-6)\n",
        "S_2[[int(name[-1]) <6 for name in S_2.index]]"
      ],
      "execution_count": 38,
      "outputs": []
    },
    {
      "cell_type": "markdown",
      "metadata": {
        "id": "gpzXRE_8sD6a"
      },
      "source": [
        "Câu 7: Sử dụng series ở câu 1, hãy đổi tên cột index thành 'STT' và đặt tên cho series là 'Gia_tri'. In kết quả ra màn hình "
      ]
    },
    {
      "cell_type": "code",
      "metadata": {
        "id": "TXpHfOQNsD6a",
        "outputId": "4ac64e45-3fef-4c81-fcca-903a6e1aa399",
        "colab": {
          "base_uri": "https://localhost:8080/"
        }
      },
      "source": [
        "jk.index.name = 'STT'\n",
        "jk.name = 'Gia_tri'\n",
        "print(jk)"
      ],
      "execution_count": 44,
      "outputs": [
        {
          "output_type": "stream",
          "text": [
            "STT\n",
            "0     70\n",
            "1     38\n",
            "2    242\n",
            "3     76\n",
            "4    229\n",
            "5    193\n",
            "6    292\n",
            "7     38\n",
            "8    198\n",
            "9      7\n",
            "Name: Gia_tri, dtype: int64\n"
          ],
          "name": "stdout"
        }
      ]
    },
    {
      "cell_type": "markdown",
      "metadata": {
        "id": "OsZgGfrXsD6a"
      },
      "source": [
        "Câu 8: Hãy áp dụng hàm logarith của gói numpy với series ở câu 1 và in kết quả ra màn hình"
      ]
    },
    {
      "cell_type": "code",
      "metadata": {
        "id": "Rtdq3PGrsD6b",
        "outputId": "89f9dcdd-2fd0-4d66-add9-a4117426e1c7",
        "colab": {
          "base_uri": "https://localhost:8080/"
        }
      },
      "source": [
        "S_log = pd.Series([np.log(gt) for gt in S.values])\n",
        "S_log.name = 'logarith'\n",
        "S_log"
      ],
      "execution_count": 45,
      "outputs": [
        {
          "output_type": "execute_result",
          "data": {
            "text/plain": [
              "0    2.772589\n",
              "1    5.225747\n",
              "2    5.493061\n",
              "3    3.433987\n",
              "4    4.605170\n",
              "5    4.615121\n",
              "6    4.890349\n",
              "7    5.652489\n",
              "8    5.081404\n",
              "9    5.648974\n",
              "Name: logarith, dtype: float64"
            ]
          },
          "metadata": {
            "tags": []
          },
          "execution_count": 45
        }
      ]
    },
    {
      "cell_type": "markdown",
      "metadata": {
        "id": "guxGSq07sD6b"
      },
      "source": [
        "Câu 9: Lọc các giá trị của series 1 > 15 và in ra màn hình"
      ]
    },
    {
      "cell_type": "code",
      "metadata": {
        "id": "py_8XwhJsD6b",
        "outputId": "282d3722-d8e4-472a-af53-85142d8631cb",
        "colab": {
          "base_uri": "https://localhost:8080/"
        }
      },
      "source": [
        "S[S>15]"
      ],
      "execution_count": 46,
      "outputs": [
        {
          "output_type": "execute_result",
          "data": {
            "text/plain": [
              "0     16\n",
              "1    186\n",
              "2    243\n",
              "3     31\n",
              "4    100\n",
              "5    101\n",
              "6    133\n",
              "7    285\n",
              "8    161\n",
              "9    284\n",
              "dtype: int64"
            ]
          },
          "metadata": {
            "tags": []
          },
          "execution_count": 46
        }
      ]
    }
  ]
}