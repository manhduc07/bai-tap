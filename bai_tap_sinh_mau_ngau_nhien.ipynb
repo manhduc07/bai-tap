{
  "nbformat": 4,
  "nbformat_minor": 0,
  "metadata": {
    "kernelspec": {
      "display_name": "Python 3",
      "language": "python",
      "name": "python3"
    },
    "language_info": {
      "codemirror_mode": {
        "name": "ipython",
        "version": 3
      },
      "file_extension": ".py",
      "mimetype": "text/x-python",
      "name": "python",
      "nbconvert_exporter": "python",
      "pygments_lexer": "ipython3",
      "version": "3.7.3"
    },
    "colab": {
      "name": "bai-tap-sinh-mau-ngau-nhien.ipynb",
      "provenance": [],
      "include_colab_link": true
    }
  },
  "cells": [
    {
      "cell_type": "markdown",
      "metadata": {
        "id": "view-in-github",
        "colab_type": "text"
      },
      "source": [
        "<a href=\"https://colab.research.google.com/github/manhduc07/bai-tap/blob/master/bai_tap_sinh_mau_ngau_nhien.ipynb\" target=\"_parent\"><img src=\"https://colab.research.google.com/assets/colab-badge.svg\" alt=\"Open In Colab\"/></a>"
      ]
    },
    {
      "cell_type": "markdown",
      "metadata": {
        "id": "__E9NPagOBP5"
      },
      "source": [
        "Sử dụng thư viện Numpy\n",
        "\n",
        "1. Sinh mẫu ngẫu nhiên bằng hàm arange trong khoảng [-15, 27] với khoảng cách là 0.7 và in kết quả ra màn hình"
      ]
    },
    {
      "cell_type": "code",
      "metadata": {
        "id": "lrjQpMRBOBP7",
        "outputId": "f931d4a4-a121-413a-c467-293c14ffcb65",
        "colab": {
          "base_uri": "https://localhost:8080/"
        }
      },
      "source": [
        "import numpy as np\n",
        "m1 = np.arange(-15, 27, 0.7)\n",
        "m1"
      ],
      "execution_count": 4,
      "outputs": [
        {
          "output_type": "execute_result",
          "data": {
            "text/plain": [
              "array([-15. , -14.3, -13.6, -12.9, -12.2, -11.5, -10.8, -10.1,  -9.4,\n",
              "        -8.7,  -8. ,  -7.3,  -6.6,  -5.9,  -5.2,  -4.5,  -3.8,  -3.1,\n",
              "        -2.4,  -1.7,  -1. ,  -0.3,   0.4,   1.1,   1.8,   2.5,   3.2,\n",
              "         3.9,   4.6,   5.3,   6. ,   6.7,   7.4,   8.1,   8.8,   9.5,\n",
              "        10.2,  10.9,  11.6,  12.3,  13. ,  13.7,  14.4,  15.1,  15.8,\n",
              "        16.5,  17.2,  17.9,  18.6,  19.3,  20. ,  20.7,  21.4,  22.1,\n",
              "        22.8,  23.5,  24.2,  24.9,  25.6,  26.3,  27. ])"
            ]
          },
          "metadata": {
            "tags": []
          },
          "execution_count": 4
        }
      ]
    },
    {
      "cell_type": "markdown",
      "metadata": {
        "id": "i8tjcMcEOBP7"
      },
      "source": [
        "2. Sinh mẫu ngẫu nhiên theo phân phối chuẩn với mean = 2.7 std = 1.2 và size = 40\n",
        "In kết quả ra màn hình"
      ]
    },
    {
      "cell_type": "code",
      "metadata": {
        "id": "udf9BNnoOBP8",
        "outputId": "e1d6b49c-5d17-4a0a-d5fc-9bec65280744",
        "colab": {
          "base_uri": "https://localhost:8080/"
        }
      },
      "source": [
        "m2 = np.random.normal(27, 1.2, 40)\n",
        "m2"
      ],
      "execution_count": 5,
      "outputs": [
        {
          "output_type": "execute_result",
          "data": {
            "text/plain": [
              "array([25.99190621, 25.42862361, 27.17329031, 27.35157785, 25.82697147,\n",
              "       24.6022442 , 25.08562243, 26.35922619, 26.93975095, 26.47957331,\n",
              "       27.09761661, 26.96374874, 27.17248393, 28.39463322, 27.90831336,\n",
              "       26.53913789, 26.74772091, 27.22314029, 26.63711763, 25.46874657,\n",
              "       26.35885584, 26.14054315, 25.92801881, 27.60563007, 28.05398859,\n",
              "       27.81826713, 26.0326335 , 26.76258082, 27.67166072, 27.69317932,\n",
              "       27.91099141, 28.86672911, 26.38621904, 27.65373902, 26.32126033,\n",
              "       27.67058932, 27.79281519, 27.1732122 , 28.46374144, 26.19644415])"
            ]
          },
          "metadata": {
            "tags": []
          },
          "execution_count": 5
        }
      ]
    },
    {
      "cell_type": "markdown",
      "metadata": {
        "id": "wDP8buxtOBP8"
      },
      "source": [
        "3. Sinh mẫu ngẫu nhiên từ vector ['Viet Nam', 'Britain', 'France', 'Russia', 'Singapore'] \n",
        "\n",
        "với kích thước là 17 theo phân phối chuẩn"
      ]
    },
    {
      "cell_type": "code",
      "metadata": {
        "id": "WRA_9CROOBP9",
        "outputId": "f61715bf-79d1-45d7-a305-7348b1941067",
        "colab": {
          "base_uri": "https://localhost:8080/"
        }
      },
      "source": [
        "m3 = np.random.choice(['Viet Nam', 'Britain', 'France', 'Russia', 'Singapore'], 17)\n",
        "m3"
      ],
      "execution_count": 6,
      "outputs": [
        {
          "output_type": "execute_result",
          "data": {
            "text/plain": [
              "array(['Britain', 'Viet Nam', 'Singapore', 'France', 'Viet Nam',\n",
              "       'Britain', 'Singapore', 'France', 'France', 'Viet Nam', 'Viet Nam',\n",
              "       'Britain', 'Singapore', 'Viet Nam', 'Viet Nam', 'Viet Nam',\n",
              "       'France'], dtype='<U9')"
            ]
          },
          "metadata": {
            "tags": []
          },
          "execution_count": 6
        }
      ]
    },
    {
      "cell_type": "markdown",
      "metadata": {
        "id": "rpY427lOOBP9"
      },
      "source": [
        "4. Sinh mẫu ngẫu nhiên ở câu 3 nhưng không theo phân phối chuẩn mà theo 1 vector đặc tả giá trị xác suất do bạn chọn"
      ]
    },
    {
      "cell_type": "code",
      "metadata": {
        "id": "MsNalhAcOBP9",
        "outputId": "20e69074-4e57-42b9-fca2-1a6870a9a0a8",
        "colab": {
          "base_uri": "https://localhost:8080/"
        }
      },
      "source": [
        "m4 = np.random.choice(['Viet Nam', 'Britain', 'France', 'Russia', 'Singapore'], 10, [0.1, 0.2, 0.1, 0.3, 0.4])\n",
        "m4"
      ],
      "execution_count": 7,
      "outputs": [
        {
          "output_type": "execute_result",
          "data": {
            "text/plain": [
              "array(['Singapore', 'Britain', 'Russia', 'Viet Nam', 'Britain', 'Britain',\n",
              "       'France', 'France', 'Viet Nam', 'Britain'], dtype='<U9')"
            ]
          },
          "metadata": {
            "tags": []
          },
          "execution_count": 7
        }
      ]
    },
    {
      "cell_type": "markdown",
      "metadata": {
        "id": "u7vblZfTOBP9"
      },
      "source": [
        "Sử dụng thư việc scipy.stats để sinh mẫu ngẫu nhiên\n",
        "\n",
        "1. Sinh mẫu ngẫu nhiên theo phân phối chuẩn với mean = 12.7, std = 2.6 và size = 30. In kết quả ra màn hình"
      ]
    },
    {
      "cell_type": "code",
      "metadata": {
        "id": "vkQpsZpSOBP-",
        "outputId": "fc58165d-78b1-4b34-e957-39c1fa081759",
        "colab": {
          "base_uri": "https://localhost:8080/"
        }
      },
      "source": [
        "from scipy import stats\n",
        "\n",
        "#Sinh ngẫu nhiên mẫu theo phân phối chuẩn với mean = 5.5 std = 2.3 và size = 100\n",
        "stats.norm.rvs(loc = 12.7, scale = 2.6, size = 30)"
      ],
      "execution_count": 8,
      "outputs": [
        {
          "output_type": "execute_result",
          "data": {
            "text/plain": [
              "array([11.88617176, 11.62537443, 13.81350561, 17.29301034, 12.82119306,\n",
              "       10.07744425, 12.95053922, 12.68541977, 12.99572533, 16.3133728 ,\n",
              "       10.83254542, 12.90359482, 10.56197239, 14.71660305,  8.17284267,\n",
              "       14.50832154,  8.18072308, 12.54364928, 14.47310638, 17.58269094,\n",
              "       13.57360448, 13.94021799, 12.04385984, 13.7749485 , 14.12035186,\n",
              "       10.05010785, 12.99124082, 11.88080665, 13.74897915, 10.4662626 ])"
            ]
          },
          "metadata": {
            "tags": []
          },
          "execution_count": 8
        }
      ]
    },
    {
      "cell_type": "markdown",
      "metadata": {
        "id": "4immrsuUOBP-"
      },
      "source": [
        "2. Hãy sinh một mẫu ngẫu nhiên theo phân phối Poisson"
      ]
    },
    {
      "cell_type": "code",
      "metadata": {
        "id": "8SAS-VLgOBP-",
        "outputId": "c3826a96-a8b7-4101-c062-d3e7c7c1c25c",
        "colab": {
          "base_uri": "https://localhost:8080/"
        }
      },
      "source": [
        "a = stats.poisson.rvs(mu=0.1, size=100)\n",
        "j=0\n",
        "for i in a:\n",
        "  if i ==0:\n",
        "    j+=1\n",
        "print(j)"
      ],
      "execution_count": 9,
      "outputs": [
        {
          "output_type": "stream",
          "text": [
            "89\n"
          ],
          "name": "stdout"
        }
      ]
    },
    {
      "cell_type": "code",
      "metadata": {
        "id": "9r8RTqkAOBP-"
      },
      "source": [
        ""
      ],
      "execution_count": null,
      "outputs": []
    }
  ]
}